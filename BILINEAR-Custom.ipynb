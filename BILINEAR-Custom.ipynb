{
 "cells": [
  {
   "cell_type": "code",
   "execution_count": 2,
   "id": "d9164c48-5d20-4d2e-9c6b-44e586ccc357",
   "metadata": {},
   "outputs": [
    {
     "name": "stdout",
     "output_type": "stream",
     "text": [
      "INFO:tensorflow:Enabling eager execution\n",
      "INFO:tensorflow:Enabling v2 tensorshape\n",
      "INFO:tensorflow:Enabling resource variables\n",
      "INFO:tensorflow:Enabling tensor equality\n",
      "INFO:tensorflow:Enabling control flow v2\n"
     ]
    }
   ],
   "source": [
    "import tensorflow as tf\n",
    "import pandas as pd\n",
    "import numpy as np\n",
    "import os\n",
    "import matplotlib.pyplot as plt\n",
    "import matplotlib.mlab as mlab\n",
    "import matplotlib as mpl\n",
    "import cv2\n",
    "import time\n",
    "import PIL\n",
    "from tensorflow import keras\n",
    "from tensorflow.keras import layers\n",
    "from tensorflow.keras.applications.resnet50 import ResNet50\n",
    "from tensorflow.keras.preprocessing import image\n",
    "from tensorflow.keras.applications.resnet50 import preprocess_input, decode_predictions\n",
    "import numpy as np\n",
    "from keras.initializers import glorot_normal\n",
    "physical_devices = tf.config.experimental.list_physical_devices('GPU')\n",
    "if len(physical_devices) > 0:\n",
    "   tf.config.experimental.set_memory_growth(physical_devices[0], True)\n",
    "from matplotlib import pyplot\n",
    "from keras.layers import Conv2D, MaxPooling2D, Flatten, Dense, Dropout"
   ]
  },
  {
   "cell_type": "code",
   "execution_count": 3,
   "id": "79ce9061-2116-4b32-93c1-44b457992305",
   "metadata": {},
   "outputs": [],
   "source": [
    "\"\"\"\n",
    "Calculates dot product of x[0] and x[1] for mini_batch \n",
    "\n",
    "Assuming both have same size and shape\n",
    "\n",
    "@param\n",
    "x -> [ (size_minibatch, total_pixels, size_filter), (size_minibatch, total_pixels, size_filter) ]\n",
    "\n",
    "\"\"\"\n",
    "def dot_product(x):\n",
    "\n",
    "    return keras.backend.batch_dot(x[0], x[1], axes=[1,1]) / x[0].get_shape().as_list()[1] \n",
    "\n",
    "\"\"\"\n",
    "Calculate signed square root\n",
    "\n",
    "@param\n",
    "x -> a tensor\n",
    "\n",
    "\"\"\"\n",
    "\n",
    "def signed_sqrt(x):\n",
    "\n",
    "    return keras.backend.sign(x) * keras.backend.sqrt(keras.backend.abs(x) + 1e-9)\n",
    "\n",
    "\"\"\"\n",
    "Calculate L2-norm\n",
    "\n",
    "@param\n",
    "x -> a tensor\n",
    "\n",
    "\"\"\"\n",
    "\n",
    "def L2_norm(x, axis=-1):\n",
    "\n",
    "    return keras.backend.l2_normalize(x, axis=axis)"
   ]
  },
  {
   "cell_type": "code",
   "execution_count": 65,
   "id": "56cbfbc9-dc9b-4c30-9758-400a8de9601e",
   "metadata": {},
   "outputs": [],
   "source": [
    "'''\n",
    "\n",
    "    Take outputs of last layer of VGG and Droput 50% \n",
    "    load it into Lambda layer which calculates outer product.\n",
    "    \n",
    "    Here both bi-linear branches have same shape.\n",
    "    \n",
    "    z -> output shape tuple\n",
    "    x -> outpur og VGG tensor\n",
    "    y -> copy of x as we modify x, we use x, y for outer product.\n",
    "    \n",
    "'''\n",
    "\n",
    "def build_model():\n",
    "    tensor_input = keras.layers.Input(shape=[150,150,3])\n",
    "    \n",
    "    model1 = tf.keras.models.Sequential()\n",
    "    model1 = layers.Conv2D(32, (3, 3), activation='relu')(tensor_input)\n",
    "    model1 = (layers.MaxPooling2D((2, 2)))(model1)\n",
    "    model1 = (layers.Conv2D(64, (3, 3), activation='relu'))(model1)\n",
    "    model1 = (layers.MaxPooling2D((2, 2)))(model1)\n",
    "    model1 = (layers.Conv2D(64, (3, 3), activation='relu'))(model1)\n",
    "    model1 = keras.models.Model(inputs=tensor_input, outputs = model1)\n",
    "    \n",
    "    print(model1.summary())\n",
    "\n",
    "    \n",
    "    model2 = tf.keras.models.Sequential()\n",
    "    model2 = layers.Conv2D(32, (3, 3), activation='relu')(tensor_input)\n",
    "    model2 = (layers.MaxPooling2D((2, 2)))(model2)\n",
    "    model2 = (layers.Conv2D(64, (3, 3), activation='relu'))(model2)\n",
    "    model2 = (layers.MaxPooling2D((2, 2)))(model2)\n",
    "    model2 = (layers.Conv2D(64, (3, 3), activation='relu'))(model2)\n",
    "    model2 = keras.models.Model(inputs=tensor_input, outputs = model2)\n",
    "\n",
    "    print(model2.summary())\n",
    "    \n",
    "    x = model1.output\n",
    "    z = model2.output_shape\n",
    "    y = model2.output\n",
    "    \n",
    "\n",
    "#   rehape to (batch_size, total_pixels, filter_size)\n",
    "    x = keras.layers.Reshape([z[1] * z[2] , z[-1]])(x)\n",
    "        \n",
    "    y = keras.layers.Reshape([z[1] * z[2] , z[-1]])(y)\n",
    "    \n",
    "#   outer products of x, y\n",
    "    x = keras.layers.Lambda(dot_product)([x, y])\n",
    "    \n",
    "#   rehape to (batch_size, filter_size_vgg_last_layer*filter_vgg_last_layer)\n",
    "    x = keras.layers.Reshape([z[-1]*z[-1]])(x)\n",
    "        \n",
    "#   signed_sqrt\n",
    "    x = keras.layers.Lambda(signed_sqrt)(x)\n",
    "        \n",
    "#   L2_norm\n",
    "    x = keras.layers.Lambda(L2_norm)(x)\n",
    "\n",
    "#   FC-Layer\n",
    "\n",
    "    initializer = tf.keras.initializers.GlorotNormal()\n",
    "            \n",
    "    x = keras.layers.Dense(units=258, \n",
    "                           kernel_regularizer=keras.regularizers.l2(0.0),\n",
    "                           kernel_initializer=initializer)(x)\n",
    "\n",
    "    tensor_prediction = keras.layers.Activation(\"softmax\")(x)\n",
    "\n",
    "    model_bilinear = keras.models.Model(inputs=[tensor_input],\n",
    "                                        outputs=[tensor_prediction])\n",
    "    \n",
    "\n",
    "\n",
    "    sgd = keras.optimizers.SGD(lr=1.0, \n",
    "                               decay=0.0,\n",
    "                               momentum=0.9)\n",
    "\n",
    "    model_bilinear.compile(loss=\"categorical_crossentropy\", \n",
    "                           optimizer=sgd,\n",
    "                           metrics=[\"categorical_accuracy\"])\n",
    "\n",
    "    model_bilinear.summary()\n",
    "    \n",
    "    return model_bilinear"
   ]
  },
  {
   "cell_type": "code",
   "execution_count": 66,
   "id": "67fea6f2-836d-462f-bd37-496a3f16e183",
   "metadata": {},
   "outputs": [
    {
     "name": "stdout",
     "output_type": "stream",
     "text": [
      "Model: \"model_25\"\n",
      "_________________________________________________________________\n",
      "Layer (type)                 Output Shape              Param #   \n",
      "=================================================================\n",
      "input_60 (InputLayer)        [(None, 150, 150, 3)]     0         \n",
      "_________________________________________________________________\n",
      "conv2d_101 (Conv2D)          (None, 148, 148, 32)      896       \n",
      "_________________________________________________________________\n",
      "max_pooling2d_66 (MaxPooling (None, 74, 74, 32)        0         \n",
      "_________________________________________________________________\n",
      "conv2d_102 (Conv2D)          (None, 72, 72, 64)        18496     \n",
      "_________________________________________________________________\n",
      "max_pooling2d_67 (MaxPooling (None, 36, 36, 64)        0         \n",
      "_________________________________________________________________\n",
      "conv2d_103 (Conv2D)          (None, 34, 34, 64)        36928     \n",
      "=================================================================\n",
      "Total params: 56,320\n",
      "Trainable params: 56,320\n",
      "Non-trainable params: 0\n",
      "_________________________________________________________________\n",
      "None\n",
      "Model: \"model_26\"\n",
      "_________________________________________________________________\n",
      "Layer (type)                 Output Shape              Param #   \n",
      "=================================================================\n",
      "input_60 (InputLayer)        [(None, 150, 150, 3)]     0         \n",
      "_________________________________________________________________\n",
      "conv2d_104 (Conv2D)          (None, 148, 148, 32)      896       \n",
      "_________________________________________________________________\n",
      "max_pooling2d_68 (MaxPooling (None, 74, 74, 32)        0         \n",
      "_________________________________________________________________\n",
      "conv2d_105 (Conv2D)          (None, 72, 72, 64)        18496     \n",
      "_________________________________________________________________\n",
      "max_pooling2d_69 (MaxPooling (None, 36, 36, 64)        0         \n",
      "_________________________________________________________________\n",
      "conv2d_106 (Conv2D)          (None, 34, 34, 64)        36928     \n",
      "=================================================================\n",
      "Total params: 56,320\n",
      "Trainable params: 56,320\n",
      "Non-trainable params: 0\n",
      "_________________________________________________________________\n",
      "None\n",
      "Model: \"model_27\"\n",
      "__________________________________________________________________________________________________\n",
      "Layer (type)                    Output Shape         Param #     Connected to                     \n",
      "==================================================================================================\n",
      "input_60 (InputLayer)           [(None, 150, 150, 3) 0                                            \n",
      "__________________________________________________________________________________________________\n",
      "conv2d_101 (Conv2D)             (None, 148, 148, 32) 896         input_60[0][0]                   \n",
      "__________________________________________________________________________________________________\n",
      "conv2d_104 (Conv2D)             (None, 148, 148, 32) 896         input_60[0][0]                   \n",
      "__________________________________________________________________________________________________\n",
      "max_pooling2d_66 (MaxPooling2D) (None, 74, 74, 32)   0           conv2d_101[0][0]                 \n",
      "__________________________________________________________________________________________________\n",
      "max_pooling2d_68 (MaxPooling2D) (None, 74, 74, 32)   0           conv2d_104[0][0]                 \n",
      "__________________________________________________________________________________________________\n",
      "conv2d_102 (Conv2D)             (None, 72, 72, 64)   18496       max_pooling2d_66[0][0]           \n",
      "__________________________________________________________________________________________________\n",
      "conv2d_105 (Conv2D)             (None, 72, 72, 64)   18496       max_pooling2d_68[0][0]           \n",
      "__________________________________________________________________________________________________\n",
      "max_pooling2d_67 (MaxPooling2D) (None, 36, 36, 64)   0           conv2d_102[0][0]                 \n",
      "__________________________________________________________________________________________________\n",
      "max_pooling2d_69 (MaxPooling2D) (None, 36, 36, 64)   0           conv2d_105[0][0]                 \n",
      "__________________________________________________________________________________________________\n",
      "conv2d_103 (Conv2D)             (None, 34, 34, 64)   36928       max_pooling2d_67[0][0]           \n",
      "__________________________________________________________________________________________________\n",
      "conv2d_106 (Conv2D)             (None, 34, 34, 64)   36928       max_pooling2d_69[0][0]           \n",
      "__________________________________________________________________________________________________\n",
      "reshape_18 (Reshape)            (None, 1156, 64)     0           conv2d_103[0][0]                 \n",
      "__________________________________________________________________________________________________\n",
      "reshape_19 (Reshape)            (None, 1156, 64)     0           conv2d_106[0][0]                 \n",
      "__________________________________________________________________________________________________\n",
      "lambda_18 (Lambda)              (None, 64, 64)       0           reshape_18[0][0]                 \n",
      "                                                                 reshape_19[0][0]                 \n",
      "__________________________________________________________________________________________________\n",
      "reshape_20 (Reshape)            (None, 4096)         0           lambda_18[0][0]                  \n",
      "__________________________________________________________________________________________________\n",
      "lambda_19 (Lambda)              (None, 4096)         0           reshape_20[0][0]                 \n",
      "__________________________________________________________________________________________________\n",
      "lambda_20 (Lambda)              (None, 4096)         0           lambda_19[0][0]                  \n",
      "__________________________________________________________________________________________________\n",
      "dense_6 (Dense)                 (None, 258)          1057026     lambda_20[0][0]                  \n",
      "__________________________________________________________________________________________________\n",
      "activation_6 (Activation)       (None, 258)          0           dense_6[0][0]                    \n",
      "==================================================================================================\n",
      "Total params: 1,169,666\n",
      "Trainable params: 1,169,666\n",
      "Non-trainable params: 0\n",
      "__________________________________________________________________________________________________\n"
     ]
    },
    {
     "name": "stderr",
     "output_type": "stream",
     "text": [
      "D:\\project\\src\\venv\\lib\\site-packages\\tensorflow\\python\\keras\\optimizer_v2\\optimizer_v2.py:374: UserWarning: The `lr` argument is deprecated, use `learning_rate` instead.\n",
      "  warnings.warn(\n"
     ]
    }
   ],
   "source": [
    "model = build_model()"
   ]
  },
  {
   "cell_type": "code",
   "execution_count": 67,
   "id": "b684a981-ebef-4bdc-b26d-e7b25647e78d",
   "metadata": {},
   "outputs": [],
   "source": [
    "\n",
    "def train_model(epochs):\n",
    "\n",
    "    hist = model.fit_generator(\n",
    "                train_generator, \n",
    "                epochs=epochs, \n",
    "                validation_data=val_generator,\n",
    "                workers=3,\n",
    "                verbose=1\n",
    "            )\n",
    "        \n",
    "#     model.save_weights(\"./bilinear_weights/val_acc_\" + str(hist.history['val_categorical_accuracy'][-1]) +\"_\"+ str(epochs)+ \".h5\")\n",
    "    \n",
    "    return hist\n",
    "\n"
   ]
  },
  {
   "cell_type": "code",
   "execution_count": 68,
   "id": "f50522af-899e-4ab0-ae66-17f5106c11c4",
   "metadata": {},
   "outputs": [],
   "source": [
    "train_datagen = image.ImageDataGenerator(\n",
    "        rotation_range=40,\n",
    "        width_shift_range=0.2,\n",
    "        height_shift_range=0.2,\n",
    "        fill_mode='nearest',\n",
    "        rescale=1./255,\n",
    "        shear_range=0.2,\n",
    "        zoom_range=0.2,\n",
    "        horizontal_flip=True)\n",
    "test_datagen = image.ImageDataGenerator(rescale=1./255)"
   ]
  },
  {
   "cell_type": "code",
   "execution_count": 69,
   "id": "bbe2b5ac-fde1-4086-9aa7-ef4a8b9ebc50",
   "metadata": {
    "collapsed": true,
    "jupyter": {
     "outputs_hidden": true
    },
    "tags": []
   },
   "outputs": [
    {
     "name": "stdout",
     "output_type": "stream",
     "text": [
      "Found 6965 images belonging to 258 classes.\n",
      "Found 1290 images belonging to 258 classes.\n",
      "Found 2064 images belonging to 258 classes.\n"
     ]
    }
   ],
   "source": [
    "train_generator = train_datagen.flow_from_directory(\n",
    "        '../nut_snacks/dataset_split/train',\n",
    "        target_size=(150, 150),\n",
    "        color_mode=\"rgb\",\n",
    "        batch_size=32,\n",
    "        subset='training',\n",
    "        class_mode='categorical')\n",
    "val_generator = test_datagen.flow_from_directory(\n",
    "        '../nut_snacks/dataset_split/val',\n",
    "        target_size=(150, 150),\n",
    "        color_mode=\"rgb\",\n",
    "        batch_size=32,\n",
    "        subset='training',\n",
    "        class_mode='categorical')\n",
    "test_generator = test_datagen.flow_from_directory(\n",
    "        '../nut_snacks/dataset_split/test',\n",
    "        target_size=(150, 150),\n",
    "        color_mode=\"rgb\",\n",
    "        shuffle = False,\n",
    "        class_mode=None,\n",
    "        batch_size=1)"
   ]
  },
  {
   "cell_type": "code",
   "execution_count": 70,
   "id": "a2c7b08e-590d-432b-a75d-be9c1a433610",
   "metadata": {},
   "outputs": [
    {
     "name": "stderr",
     "output_type": "stream",
     "text": [
      "D:\\project\\src\\venv\\lib\\site-packages\\tensorflow\\python\\keras\\engine\\training.py:1940: UserWarning: `Model.fit_generator` is deprecated and will be removed in a future version. Please use `Model.fit`, which supports generators.\n",
      "  warnings.warn('`Model.fit_generator` is deprecated and '\n"
     ]
    },
    {
     "name": "stdout",
     "output_type": "stream",
     "text": [
      "218/218 [==============================] - 17s 65ms/step - loss: 5.6388 - categorical_accuracy: 0.0032 - val_loss: 5.6352 - val_categorical_accuracy: 0.0039\n"
     ]
    }
   ],
   "source": [
    "hist =train_model(epochs=1)"
   ]
  },
  {
   "cell_type": "code",
   "execution_count": 19,
   "id": "3201766d-c27d-4d8e-ae7d-7949e6e65133",
   "metadata": {},
   "outputs": [],
   "source": [
    "model.load_weights('./model_bilinear/BCNN_keras/E[30]_LOS[0.092]_ACC[0.974].hdf5')"
   ]
  },
  {
   "cell_type": "code",
   "execution_count": 20,
   "id": "5eabd8ca-27e9-4bdb-afa3-d1ce57cb5524",
   "metadata": {},
   "outputs": [],
   "source": [
    "for layer in model.layers:\n",
    "    layer.trainable = True\n",
    "\n",
    "sgd = keras.optimizers.SGD(lr=1e-3, decay=1e-9, momentum=0.9)\n",
    "\n",
    "model.compile(loss=\"categorical_crossentropy\", optimizer=sgd, metrics=[\"categorical_accuracy\"])"
   ]
  },
  {
   "cell_type": "code",
   "execution_count": 27,
   "id": "6ce601e9-de2b-42f0-aafd-eabe223e1854",
   "metadata": {},
   "outputs": [
    {
     "name": "stdout",
     "output_type": "stream",
     "text": [
      "Epoch 1/2\n",
      "218/218 [==============================] - 52s 239ms/step - loss: 0.0235 - categorical_accuracy: 0.9990 - val_loss: 0.0836 - val_categorical_accuracy: 0.9775\n",
      "Epoch 2/2\n",
      "218/218 [==============================] - 52s 239ms/step - loss: 0.0233 - categorical_accuracy: 0.9986 - val_loss: 0.0905 - val_categorical_accuracy: 0.9736\n"
     ]
    }
   ],
   "source": [
    "hist =train_model(epochs=2)"
   ]
  },
  {
   "cell_type": "code",
   "execution_count": 28,
   "id": "0573dd0c-5207-4a86-91b3-74f2ccfc1712",
   "metadata": {},
   "outputs": [
    {
     "name": "stdout",
     "output_type": "stream",
     "text": [
      "INFO:tensorflow:Assets written to: ./model_bilin_dropout\\assets\n"
     ]
    }
   ],
   "source": [
    "model.save('./model_bilin_dropout')"
   ]
  },
  {
   "cell_type": "code",
   "execution_count": 29,
   "id": "d0c6f87e-3c29-40dd-b1ca-3e7dd8fcc86b",
   "metadata": {},
   "outputs": [
    {
     "data": {
      "image/png": "[encoded data removed]",
      "text/plain": [
       "<Figure size 432x288 with 1 Axes>"
      ]
     },
     "metadata": {
      "needs_background": "light"
     },
     "output_type": "display_data"
    }
   ],
   "source": [
    "# Plot history: MAE\n",
    "plt.plot(model.history.history['loss'], label='training data')\n",
    "plt.plot(model.history.history['val_loss'], label='validation data')\n",
    "plt.title('loss')\n",
    "plt.ylabel('loss')\n",
    "plt.xlabel('No. epoch')\n",
    "plt.legend(loc=\"upper right\")\n",
    "plt.show()"
   ]
  },
  {
   "cell_type": "code",
   "execution_count": 30,
   "id": "1c56af12-d66c-4438-80bf-b5c83c37190a",
   "metadata": {},
   "outputs": [
    {
     "name": "stderr",
     "output_type": "stream",
     "text": [
      "D:\\project\\src\\venv\\lib\\site-packages\\tensorflow\\python\\keras\\engine\\training.py:2001: UserWarning: `Model.predict_generator` is deprecated and will be removed in a future version. Please use `Model.predict`, which supports generators.\n",
      "  warnings.warn('`Model.predict_generator` is deprecated and '\n"
     ]
    },
    {
     "name": "stdout",
     "output_type": "stream",
     "text": [
      "2064/2064 [==============================] - 18s 8ms/step\n"
     ]
    }
   ],
   "source": [
    "preds = model.predict_generator(test_generator, verbose=1)"
   ]
  },
  {
   "cell_type": "code",
   "execution_count": 31,
   "id": "3d3bbeb9-92a0-4cac-9862-13727a8ba361",
   "metadata": {},
   "outputs": [
    {
     "data": {
      "text/plain": [
       "array([  0,   0,   0, ...,   4, 257, 257], dtype=int64)"
      ]
     },
     "execution_count": 31,
     "metadata": {},
     "output_type": "execute_result"
    }
   ],
   "source": [
    "preds_cls_idx = preds.argmax(axis=-1)\n",
    "preds_cls_idx"
   ]
  },
  {
   "cell_type": "code",
   "execution_count": 32,
   "id": "e0d8c7a0-a091-4a9d-8dba-0a458ce35bab",
   "metadata": {},
   "outputs": [
    {
     "data": {
      "text/plain": [
       "array(['999999815342', '999999815342', '999999815342', ...,\n",
       "       '999999981399', '999999996239', '999999996239'], dtype='<U12')"
      ]
     },
     "execution_count": 32,
     "metadata": {},
     "output_type": "execute_result"
    }
   ],
   "source": [
    "idx_to_cls = {v: k for k, v in train_generator.class_indices.items()}\n",
    "preds_cls = np.vectorize(idx_to_cls.get)(preds_cls_idx)\n",
    "preds_cls"
   ]
  },
  {
   "cell_type": "code",
   "execution_count": 33,
   "id": "ca20fbec-6290-4612-bc04-599bed52dccc",
   "metadata": {},
   "outputs": [
    {
     "data": {
      "text/plain": [
       "2064"
      ]
     },
     "execution_count": 33,
     "metadata": {},
     "output_type": "execute_result"
    }
   ],
   "source": [
    "true_lables = []\n",
    "true_lables_upc_idx_map = {}\n",
    "true_lables_img = {}\n",
    "upc_list = os.listdir('../nut_snacks/dataset_split/test/')\n",
    "idx = 0\n",
    "for upc in upc_list:\n",
    "    img_folder = '../nut_snacks/dataset_split/test/' + upc +'/'\n",
    "    img_list = os.listdir(img_folder)\n",
    "    for img in img_list:\n",
    "        true_lables.append(upc)\n",
    "        true_lables_upc_idx_map[idx] = upc\n",
    "        true_lables_img[idx] = img\n",
    "        idx += 1\n",
    "len(true_lables)"
   ]
  },
  {
   "cell_type": "code",
   "execution_count": 34,
   "id": "77623c26-72de-430d-b7d5-ae609592f32a",
   "metadata": {},
   "outputs": [
    {
     "data": {
      "text/plain": [
       "2005"
      ]
     },
     "execution_count": 34,
     "metadata": {},
     "output_type": "execute_result"
    }
   ],
   "source": [
    "wrong_predicted = []\n",
    "count = 0\n",
    "for idx in range(0, len(preds_cls)):\n",
    "    if preds_cls[idx] != true_lables[idx]:\n",
    "        wrong_predicted.append(idx)\n",
    "    else:\n",
    "        count += 1\n",
    "count"
   ]
  },
  {
   "cell_type": "code",
   "execution_count": 35,
   "id": "e6004496-04af-4461-a435-b4f511da33a4",
   "metadata": {},
   "outputs": [
    {
     "data": {
      "text/plain": [
       "59"
      ]
     },
     "execution_count": 35,
     "metadata": {},
     "output_type": "execute_result"
    }
   ],
   "source": [
    "len(wrong_predicted)"
   ]
  },
  {
   "cell_type": "code",
   "execution_count": 36,
   "id": "9dc470bd-5d28-43ba-9f9e-79c8fc2a0ff2",
   "metadata": {},
   "outputs": [
    {
     "data": {
      "text/plain": [
       "0.9714147286821705"
      ]
     },
     "execution_count": 36,
     "metadata": {},
     "output_type": "execute_result"
    }
   ],
   "source": [
    "accuracy = count/len(preds_cls)\n",
    "accuracy"
   ]
  },
  {
   "cell_type": "code",
   "execution_count": 37,
   "id": "a4098909-42b0-416c-92fa-cfc5284ea871",
   "metadata": {},
   "outputs": [
    {
     "data": {
      "text/plain": [
       "(43, 59)"
      ]
     },
     "execution_count": 37,
     "metadata": {},
     "output_type": "execute_result"
    }
   ],
   "source": [
    "wrong_pred_upc = set()\n",
    "for label in wrong_predicted:\n",
    "    wrong_pred_upc.add(true_lables_upc_idx_map[label])\n",
    "len(wrong_pred_upc), len(wrong_predicted)"
   ]
  },
  {
   "cell_type": "code",
   "execution_count": 38,
   "id": "afdbd4c1-5e02-471f-8385-ed0c2f6d3520",
   "metadata": {},
   "outputs": [
    {
     "data": {
      "text/plain": [
       "59"
      ]
     },
     "execution_count": 38,
     "metadata": {},
     "output_type": "execute_result"
    }
   ],
   "source": [
    "images_pred_wrong = []\n",
    "for label in wrong_predicted:\n",
    "    images_pred_wrong.append(true_lables_img[label])\n",
    "len(images_pred_wrong)"
   ]
  },
  {
   "cell_type": "code",
   "execution_count": 39,
   "id": "0c5c3c98-fc78-43a7-85b7-acec8e1620a9",
   "metadata": {},
   "outputs": [
    {
     "data": {
      "text/plain": [
       "({'999999815342': 8,\n",
       "  '999999981396': 8,\n",
       "  '999999981397': 8,\n",
       "  '999999981398': 7,\n",
       "  '999999981582': 1,\n",
       "  '999999981399': 8,\n",
       "  '999999981400': 7,\n",
       "  '999999981515': 1,\n",
       "  '999999981401': 8,\n",
       "  '999999981402': 3},\n",
       " 10)"
      ]
     },
     "execution_count": 39,
     "metadata": {},
     "output_type": "execute_result"
    }
   ],
   "source": [
    "d={}\n",
    "for i in range(0 ,len(images_pred_wrong)):\n",
    "    if preds_cls[i] not in d.keys():\n",
    "        d[preds_cls[i]] = 1\n",
    "    else:\n",
    "        d[preds_cls[i]] += 1\n",
    "d, len(d)"
   ]
  },
  {
   "cell_type": "code",
   "execution_count": 40,
   "id": "40a671aa-9cfd-4c7d-a87b-d3e602d9f30b",
   "metadata": {},
   "outputs": [
    {
     "name": "stdout",
     "output_type": "stream",
     "text": [
      "../nut_snacks/dataset_split/test/999999981398/walmart-supercenter-1521_16510774_Q02-002_zIK9W--1602-807-1835-1138.jpg 999999815342\n",
      "../nut_snacks/dataset_split/test/999999981400/walmart-supercenter-1518_16559243_Q02-005_fq6tG--2166-470-2456-833.jpg 999999815342\n",
      "../nut_snacks/dataset_split/test/999999981408/walmart-supercenter-1508_16550468_Q02-005_RFZYu--1231-812-1414-983.jpg 999999815342\n",
      "../nut_snacks/dataset_split/test/999999981414/walmart-neighborhood-market-4142_16494957_Q02-002_8Hn4O--2738-2730-2971-3047.jpg 999999815342\n",
      "../nut_snacks/dataset_split/test/999999981417/walmart-neighborhood-market-5855_16497595_Q02-002_XxQ8V--1573-2417-1760-2629.jpg 999999815342\n",
      "../nut_snacks/dataset_split/test/999999981419/walmart-neighborhood-market-5855_16497595_Q02-001_3zRe0--524-3327-737-3698.jpg 999999815342\n",
      "../nut_snacks/dataset_split/test/999999981423/walmart-neighborhood-market-2977_16496723_Q02-003_Lpwom--2309-3261-2549-3515.jpg 999999815342\n",
      "../nut_snacks/dataset_split/test/999999981426/walmart-supercenter-1238_16505805_Q02-001_UqNrZ--1156-49-1454-413.jpg 999999815342\n",
      "../nut_snacks/dataset_split/test/999999981427/walmart-supercenter-1004_16505800_Q02-003_XkNT5--1048-2853-1200-3121.jpg 999999981396\n",
      "../nut_snacks/dataset_split/test/999999981427/walmart-supercenter-1238_16505805_Q02-004_pLiM6--23-2835-247-3136.jpg 999999981396\n",
      "../nut_snacks/dataset_split/test/999999981430/walmart-2603_16507215_Q02-003_VnZ65--1029-1898-1195-2039.jpg 999999981396\n",
      "../nut_snacks/dataset_split/test/999999981431/walmart-supercenter-1198_16500774_Q02-002_NL315--1441-2711-1585-2895.jpg 999999981396\n",
      "../nut_snacks/dataset_split/test/999999981431/walmart-supercenter-1315_16523858_Q02-001_ay2gI--1334-2690-1509-2945.jpg 999999981396\n",
      "../nut_snacks/dataset_split/test/999999981438/walmart-supercenter-1218_16497506_Q02-001_jgbrN--664-771-721-816.jpg 999999981396\n",
      "../nut_snacks/dataset_split/test/999999981440/walmart-supercenter-147_16507331_Q02-001_UBeWo--1000-1433-1124-1614.jpg 999999981396\n",
      "../nut_snacks/dataset_split/test/999999981445/walmart-2603_16507215_Q02-001_cs8Mg--2565-1723-2700-1943.jpg 999999981396\n",
      "../nut_snacks/dataset_split/test/999999981445/walmart-supercenter-1373_16496132_Q02-001_ZRuSy--372-1515-505-1682.jpg 999999981397\n",
      "../nut_snacks/dataset_split/test/999999981447/walmart-supercenter-1433_16500483_Q02-005_ZULmb--1135-1749-1345-2051.jpg 999999981397\n",
      "../nut_snacks/dataset_split/test/999999981451/walmart-supercenter-1075_16528402_Q02-002_9wvdk--2635-400-2879-783.jpg 999999981397\n",
      "../nut_snacks/dataset_split/test/999999981477/walmart-supercenter-1508_16550468_Q02-003_h35Jk--71-1712-239-1848.jpg 999999981397\n",
      "../nut_snacks/dataset_split/test/999999981479/walmart-supercenter-1099_16513995_Q02-003_9cYay--170-1357-431-1741.jpg 999999981397\n",
      "../nut_snacks/dataset_split/test/999999981486/walmart-neighborhood-market-3153_16501250_Q02-005_idxyN--762-1127-926-1397.jpg 999999981397\n",
      "../nut_snacks/dataset_split/test/999999981486/walmart-supercenter-1077_16494796_Q02-003_rVi2S--433-952-718-1338.jpg 999999981397\n",
      "../nut_snacks/dataset_split/test/999999981487/walmart-supercenter-1433_16500483_Q02-004_5uq9r--1533-624-1714-879.jpg 999999981397\n",
      "../nut_snacks/dataset_split/test/999999981488/25.jpg 999999981398\n",
      "../nut_snacks/dataset_split/test/999999981497/walmart-supercenter-1207_16516859_Q02-004_qX0VY--435-747-588-870.jpg 999999981398\n",
      "../nut_snacks/dataset_split/test/999999981500/walmart-supercenter-1505_16514759_Q02-002_kXpRU--2131-391-2386-782.jpg 999999981398\n",
      "../nut_snacks/dataset_split/test/999999981541/walmart-supercenter-1238_16505805_Q02-003_zkR0i--2349-2004-2469-2119.jpg 999999981398\n",
      "../nut_snacks/dataset_split/test/999999981576/walmart-supercenter-1218_16497506_Q02-001_jgbrN--436-518-519-647.jpg 999999981398\n",
      "../nut_snacks/dataset_split/test/999999981578/walmart-supercenter-1424_16513638_Q02-002_ou7LQ--790-3586-984-3881.jpg 999999981398\n",
      "../nut_snacks/dataset_split/test/999999981588/walmart-2603_16507215_Q02-004_xwctM--567-112-922-569.jpg 999999981398\n",
      "../nut_snacks/dataset_split/test/999999981588/walmart-supercenter-1218_16497506_Q02-003_jBy6F--99-538-177-639.jpg 999999981582\n",
      "../nut_snacks/dataset_split/test/999999981590/walmart-supercenter-1241_16509594_Q02-003_IY08x--2225-1801-2267-1889.jpg 999999981399\n",
      "../nut_snacks/dataset_split/test/999999981674/walmart-supercenter-1241_16509594_Q02-001_zqVHu--1205-1237-1337-1512.jpg 999999981399\n",
      "../nut_snacks/dataset_split/test/999999981680/walmart-supercenter-1080_16507175_Q02-002_gCrZP--1342-3177-1529-3469.jpg 999999981399\n",
      "../nut_snacks/dataset_split/test/999999981684/16.jpg 999999981399\n",
      "../nut_snacks/dataset_split/test/999999981684/23.jpg 999999981399\n",
      "../nut_snacks/dataset_split/test/999999981684/24.jpg 999999981399\n",
      "../nut_snacks/dataset_split/test/999999981684/7.jpg 999999981399\n",
      "../nut_snacks/dataset_split/test/999999981689/walmart-2603_16507215_Q02-004_xwctM--396-212-556-544.jpg 999999981399\n",
      "../nut_snacks/dataset_split/test/999999981689/walmart-supercenter-1505_16514759_Q02-003_fH3zy--1677-680-1928-1105.jpg 999999981400\n",
      "../nut_snacks/dataset_split/test/999999981693/walmart-supercenter-1238_16505805_Q02-001_UqNrZ--1689-1764-1883-2132.jpg 999999981400\n",
      "../nut_snacks/dataset_split/test/999999981701/walmart-1365_16527502_Q02-002_wDdVX--1023-761-1255-1032.jpg 999999981400\n",
      "../nut_snacks/dataset_split/test/999999981701/walmart-supercenter-1505_16514759_Q02-002_kXpRU--631-230-969-639.jpg 999999981400\n",
      "../nut_snacks/dataset_split/test/999999981701/walmart-supercenter-1_16495095_Q02-003_ozXU7--1215-2450-1473-2760.jpg 999999981400\n",
      "../nut_snacks/dataset_split/test/999999981758/walmart-supercenter-1518_16559243_Q02-003_QclLu--2015-2730-2160-3064.jpg 999999981515\n",
      "../nut_snacks/dataset_split/test/999999981984/walmart-supercenter-1508_16550468_Q02-005_RFZYu--1930-2053-2058-2307.jpg 999999981400\n",
      "../nut_snacks/dataset_split/test/999999981984/walmart-supercenter-1521_16510774_Q02-003_Qso82--2314-2222-2477-2552.jpg 999999981400\n",
      "../nut_snacks/dataset_split/test/999999981984/walmart-supercenter-1_16495095_Q02-004_8eSVf--2298-1985-2540-2325.jpg 999999981401\n",
      "../nut_snacks/dataset_split/test/999999981985/walmart-supercenter-1424_16513638_Q02-003_uLE9H--1345-629-1634-1105.jpg 999999981401\n",
      "../nut_snacks/dataset_split/test/999999981985/walmart-supercenter-1_16495095_Q02-001_oFJIU--1273-0-1519-340.jpg 999999981401\n",
      "../nut_snacks/dataset_split/test/999999981991/walmart-supercenter-1099_16513995_Q02-002_JfzoY--2527-481-2722-608.jpg 999999981401\n",
      "../nut_snacks/dataset_split/test/999999981991/walmart-supercenter-1244_16549069_Q02-001_FQ8Gc--2416-216-2578-361.jpg 999999981401\n",
      "../nut_snacks/dataset_split/test/999999981998/27.jpg 999999981401\n",
      "../nut_snacks/dataset_split/test/999999996230/walmart-supercenter-1241_16509594_Q02-003_IY08x--1525-3316-1777-3597.jpg 999999981401\n",
      "../nut_snacks/dataset_split/test/999999996232/walmart-supercenter-1310_16499803_Q02-001_hVgBs--1988-1217-2222-1514.jpg 999999981401\n",
      "../nut_snacks/dataset_split/test/999999996233/walmart-supercenter-1244_16549069_Q02-002_dJ7oa--48-1597-386-1917.jpg 999999981402\n",
      "../nut_snacks/dataset_split/test/999999996239/walmart-supercenter-1075_16528402_Q02-001_5TX0V--2590-1736-2826-2031.jpg 999999981402\n",
      "../nut_snacks/dataset_split/test/999999996239/walmart-supercenter-1218_16497506_Q02-003_jBy6F--621-698-691-824.jpg 999999981402\n"
     ]
    }
   ],
   "source": [
    "for i in range(0 ,len(images_pred_wrong)):\n",
    "    img ='../nut_snacks/dataset_split/test/' + true_lables_upc_idx_map[wrong_predicted[i]] + '/' + images_pred_wrong[i]\n",
    "    print(img, preds_cls[i])"
   ]
  },
  {
   "cell_type": "code",
   "execution_count": 41,
   "id": "688a3b51-8a3f-4277-8311-5d38bb27d890",
   "metadata": {},
   "outputs": [],
   "source": [
    "from sklearn.metrics import f1_score,precision_score,recall_score,accuracy_score"
   ]
  },
  {
   "cell_type": "code",
   "execution_count": 42,
   "id": "d4cf2f83-3b5b-4133-9aaa-ad609ac138ca",
   "metadata": {},
   "outputs": [],
   "source": [
    "f1 = f1_score(true_lables, preds_cls, average='weighted')\n",
    "precision = precision_score(true_lables, preds_cls, average='weighted')\n",
    "recall  = recall_score(true_lables, preds_cls, average='weighted')\n",
    "accuracy = accuracy_score(true_lables, preds_cls)"
   ]
  },
  {
   "cell_type": "code",
   "execution_count": 43,
   "id": "73e5228f-0af4-4ac6-9f79-3a5ea8db3d91",
   "metadata": {},
   "outputs": [
    {
     "name": "stdout",
     "output_type": "stream",
     "text": [
      "f1 : 0.9710697318084459\n",
      "precision : 0.9744924326319676\n",
      "recall : 0.9714147286821705\n",
      "accuracy : 0.9714147286821705\n"
     ]
    }
   ],
   "source": [
    "print(\"f1 :\", f1)\n",
    "print(\"precision :\", precision)\n",
    "print(\"recall :\", recall)\n",
    "print(\"accuracy :\", accuracy)\n"
   ]
  },
  {
   "cell_type": "code",
   "execution_count": null,
   "id": "4fd1b21b-1dc6-49f4-a2ad-e2362eb97753",
   "metadata": {},
   "outputs": [],
   "source": []
  }
 ],
 "metadata": {
  "kernelspec": {
   "display_name": "GPUEnv",
   "language": "python",
   "name": "venv"
  },
  "language_info": {
   "codemirror_mode": {
    "name": "ipython",
    "version": 3
   },
   "file_extension": ".py",
   "mimetype": "text/x-python",
   "name": "python",
   "nbconvert_exporter": "python",
   "pygments_lexer": "ipython3",
   "version": "3.9.0"
  }
 },
 "nbformat": 4,
 "nbformat_minor": 5
}
